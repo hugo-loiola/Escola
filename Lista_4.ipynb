{
  "nbformat": 4,
  "nbformat_minor": 0,
  "metadata": {
    "colab": {
      "name": "Lista 4",
      "provenance": [],
      "collapsed_sections": [],
      "authorship_tag": "ABX9TyND2rVSIzZFM/AlgyxwW6vA",
      "include_colab_link": true
    },
    "kernelspec": {
      "name": "python3",
      "display_name": "Python 3"
    },
    "language_info": {
      "name": "python"
    }
  },
  "cells": [
    {
      "cell_type": "markdown",
      "metadata": {
        "id": "view-in-github",
        "colab_type": "text"
      },
      "source": [
        "<a href=\"https://colab.research.google.com/github/hugo-loiola/Escola/blob/main/Lista_4.ipynb\" target=\"_parent\"><img src=\"https://colab.research.google.com/assets/colab-badge.svg\" alt=\"Open In Colab\"/></a>"
      ]
    },
    {
      "cell_type": "markdown",
      "metadata": {
        "id": "J0jXWfsKBCqY"
      },
      "source": [
        "# Disciplina: Probabilidade e Estatística\n",
        "# Alunos: Hugo Loiola de Queiroz, Brenno Alves de Oliveira \n",
        "# Lista 4"
      ]
    },
    {
      "cell_type": "markdown",
      "metadata": {
        "id": "LjXQgVUgBacP"
      },
      "source": [
        "**Questão 1**"
      ]
    },
    {
      "cell_type": "code",
      "metadata": {
        "id": "Pu_bMr-WBmdb"
      },
      "source": [
        "%reset -f\n",
        "import statistics\n",
        "from scipy.stats.mstats import gmean\n",
        "consumo = [10,13,17,9,8,11,13,7]\n",
        "# A)\n",
        "print(f'Média aritmética simples: {statistics.mean(consumo)}\\n')\n",
        "# B)\n",
        "print(f'Média harmonica: {round(statistics.harmonic_mean(consumo))}\\n')\n",
        "# C)\n",
        "print(f'Média geométrica: {round(gmean(consumo))}\\n')\n",
        "# D)\n",
        "print(f'Moda: {statistics.mode(consumo)}\\n')\n",
        "# E)\n",
        "print(f'Variância: {round(statistics.variance(consumo))}\\n')\n",
        "# F)\n",
        "print(f'Desvio Padrão: {round(statistics.stdev(consumo))}\\n')\n"
      ],
      "execution_count": null,
      "outputs": []
    },
    {
      "cell_type": "markdown",
      "metadata": {
        "id": "nzgVG1pCIGrV"
      },
      "source": [
        "**Questão 2**"
      ]
    },
    {
      "cell_type": "code",
      "metadata": {
        "id": "vbyyoBJyA_O8"
      },
      "source": [
        "%reset -f\n",
        "import statistics\n",
        "from scipy.stats.mstats import gmean\n",
        "ansiedade = [67,75,63,72,77,78,81,77,80]\n",
        "# A)\n",
        "print(f'Média aritmética simples: {round(statistics.mean(ansiedade))}\\nMédia harmônica: {round(statistics.harmonic_mean(ansiedade))}\\nMédia geométrica: {round(gmean(ansiedade))}\\n')\n",
        "# B)\n",
        "print(f'Moda: {statistics.mode(ansiedade)}\\n')\n",
        "# C)\n",
        "print(f'Mediana: {statistics.median(ansiedade)}\\n')\n",
        "# D) \n",
        "print(f'Variância: {round(statistics.variance(ansiedade))}\\n')\n",
        "# E)\n",
        "print(f'Desvio padrão: {round(statistics.stdev(ansiedade))}\\n')\n"
      ],
      "execution_count": null,
      "outputs": []
    },
    {
      "cell_type": "markdown",
      "metadata": {
        "id": "sk81H4hwNlE5"
      },
      "source": [
        "**Questão 3**"
      ]
    },
    {
      "cell_type": "code",
      "metadata": {
        "id": "YWUzcgDnNnQV"
      },
      "source": [
        "%reset -f\n",
        "import statistics\n",
        "# Colocando os dados em uma lista\n",
        "leite=[4,4.5,5,5,5.5,6,6.5,6.5,6.5,\n",
        "       6.5,7,7,7,7,7,7,7.5,8.5,9,\n",
        "       9,9.5,10,10,10.5,10.5,11,12,12.5,13,13]\n",
        "# Calculo do Coeficiente de Variação\n",
        "print(f'Coeficiente de Variação: {statistics.stdev(leite)/statistics.mean(leite)}')\n"
      ],
      "execution_count": null,
      "outputs": []
    },
    {
      "cell_type": "markdown",
      "metadata": {
        "id": "Nd1vF0_tSvIU"
      },
      "source": [
        "**Questão 4**"
      ]
    },
    {
      "cell_type": "code",
      "metadata": {
        "id": "L7lnfdSoSxbH"
      },
      "source": [
        "%reset -f\n",
        "import statistics\n",
        "# Produção de café\n",
        "cafe = [12,15,18,22,17,14,18,23,29,12]\n",
        "# A)\n",
        "print(f'Produção média: {statistics.mean(cafe)}\\n')\n",
        "# B)\n",
        "print(f'Mediana da produção: {statistics.median(cafe)}\\n')\n",
        "# C)\n",
        "print(f'Desvio padrão {round(statistics.stdev(cafe))}\\n')\n"
      ],
      "execution_count": null,
      "outputs": []
    },
    {
      "cell_type": "markdown",
      "metadata": {
        "id": "H8K2yveMVfnF"
      },
      "source": [
        "**Questão 5**"
      ]
    },
    {
      "cell_type": "code",
      "metadata": {
        "id": "iqUV5hyZVjJS"
      },
      "source": [
        "\n",
        "%reset -f\n",
        "from scipy.stats.mstats import gmean\n",
        "import statistics\n",
        "notas = []\n",
        "print('\\n','~'*20,'\\n','Algoritmo de Notas','\\n','~'*20,'\\n')\n",
        "# Loop para a inserção dos dados\n",
        "while True:\n",
        "  try:\n",
        "    valor = float(input('Coloque uma nota: (-999 para sair)'))\n",
        "    # Sair do Loop\n",
        "    if valor == -999: \n",
        "      print('Fim das notas \\n')\n",
        "      break\n",
        "    # A nota estar entre 0 e 10  \n",
        "    elif valor > 10 or valor < 0: \n",
        "      print('Erro! Coloque um valor entre 0 e 10\\n')\n",
        "    # Colocar os valores recebidos em uma lista\n",
        "    else:\n",
        "      notas.append(valor) \n",
        "      continue\n",
        "  # Checar se é uma variavel do tipo int ou float\n",
        "  except:\n",
        "    print('Erro! Coloque um número\\n') \n",
        "\n",
        "# Calculo das Questões \n",
        "print(f'Notas inseridas: {notas}\\n')\n",
        "# A)\n",
        "print(f'Média aritmética: {statistics.mean(notas)}\\n')\n",
        "# B)\n",
        "print(f'Média harmônica: {round(statistics.harmonic_mean(notas))}\\n')\n",
        "# C)\n",
        "print(f'Média geométrica: {round(gmean(notas))}\\n')\n",
        "# D)\n",
        "print(f'Moda: {statistics.mode(notas)}\\n')\n",
        "# E)\n",
        "print(f'Variância: {statistics.variance(notas)}\\n')\n",
        "# F)\n",
        "print(f'Desvio padrão: {statistics.stdev(notas)}\\n')\n",
        "# G)\n",
        "print(f'Coeficiente de variância: {statistics.stdev(notas)/statistics.mean(notas)}\\n')\n"
      ],
      "execution_count": null,
      "outputs": []
    },
    {
      "cell_type": "markdown",
      "metadata": {
        "id": "zV8p69mYmQGH"
      },
      "source": [
        "**Qustão 6**"
      ]
    },
    {
      "cell_type": "code",
      "metadata": {
        "id": "q62dDnj1CeDz"
      },
      "source": [
        "%reset -f\n",
        "nota=[]\n",
        "print('\\n','~'*15,'\\n','Nota com Peso','\\n','~'*15,'\\n')\n",
        "while True:\n",
        "  try:\n",
        "    # Verificar o tamanho da lista\n",
        "    if len(nota) == 3:\n",
        "      break\n",
        "    # Colocar as notas  \n",
        "    valor=float(input('Coloque a Nota: '))\n",
        "    # Verficar se é entre 0 e 10\n",
        "    if valor > 10 or valor < 0: \n",
        "      print('Erro! Coloque um valor entre 0 e 10\\n')\n",
        "    # Adicionar a nota na lista\n",
        "    else:\n",
        "      nota.append(valor)\n",
        "      continue\n",
        "  except:\n",
        "    print('Erro! Coloque um número\\n')\n",
        "\n",
        "# Calculo da Média Ponderada\n",
        "\n",
        "calculo = ((nota[0]*3)+(nota[1]*4)+(nota[2]*3))/10 # 3+4+3 = 10\n",
        "print(f'\\nA média ponderada das notas {nota} é igual à {calculo}')\n"
      ],
      "execution_count": null,
      "outputs": []
    }
  ]
}